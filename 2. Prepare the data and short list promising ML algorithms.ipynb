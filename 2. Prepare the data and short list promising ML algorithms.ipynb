{
 "cells": [
  {
   "cell_type": "markdown",
   "metadata": {
    "colab_type": "text",
    "id": "5iDFFRv2-Dzd"
   },
   "source": [
    "### Prepare the data for Machine Learning algorithms\n",
    "\n",
    "Build robust dataset to solve real-world problems and see how your data preparation ultimately impacts how effective your models are. Additionally, building better features is after data, the second most important way to impact Machine Learning performance. In this part, the dataset is neatly divided into train and test set. What I will do is to deal with missing values and choose right features and their formats for the right algorithms then evaluate their performance, according to the evaluation, tune the features and update this process until no improvement on model performance.\n"
   ]
  },
  {
   "cell_type": "markdown",
   "metadata": {
    "colab_type": "text",
    "id": "40NDl6FY-Dzf"
   },
   "source": [
    "#### 1. Import libraries for data preprocessing"
   ]
  },
  {
   "cell_type": "code",
   "execution_count": null,
   "metadata": {
    "colab": {},
    "colab_type": "code",
    "id": "BIGlTYJf-Dzg"
   },
   "outputs": [],
   "source": [
    "# import libraries\n",
    "# Basic operation modules\n",
    "import pandas as pd\n",
    "import numpy as np\n",
    "import matplotlib.pyplot as plt\n",
    "%matplotlib inline\n",
    "import seaborn as sns\n",
    "# Common Model Helpers\n",
    "from sklearn.metrics import mean_squared_error\n",
    "from sklearn.model_selection import KFold, cross_val_score, train_test_split\n",
    "# Machine Learning algorithms\n",
    "from sklearn.linear_model import Lasso, LinearRegression\n",
    "from sklearn.tree import DecisionTreeRegressor \n",
    "from sklearn.ensemble import RandomForestRegressor,GradientBoostingRegressor\n",
    "from sklearn.ensemble import AdaBoostRegressor\n",
    "from sklearn.ensemble import BaggingRegressor\n",
    "import xgboost as xgb\n",
    "from sklearn.base import BaseEstimator, TransformerMixin, RegressorMixin, clone\n",
    "# Fine tune hyper-parameters\n",
    "from sklearn.model_selection import GridSearchCV,RandomizedSearchCV"
   ]
  },
  {
   "cell_type": "code",
   "execution_count": null,
   "metadata": {
    "colab": {},
    "colab_type": "code",
    "id": "RskJy2aQ-Dzk"
   },
   "outputs": [],
   "source": [
    "train = pd.read_csv('train.csv')\n",
    "test = pd.read_csv('test.csv')\n",
    "submission = pd.read_csv('Sample_Submission.csv')\n",
    "cutoff_purchase = np.percentile(train['Purchase'], 99.9)  # 99.9 percentile\n",
    "train.loc[train['Purchase'] > cutoff_purchase,'Purchase']=cutoff_purchase"
   ]
  },
  {
   "cell_type": "markdown",
   "metadata": {
    "colab_type": "text",
    "id": "B0AFdmNw-Dzn"
   },
   "source": [
    "The train and test datasets contained 550,068 and 233,599 instances respectively. There are 11 features, four of them are masked and two of them are with missing values.<br>\n",
    "\n",
    "#### 2.Data cleaning:\n",
    "\n",
    "• Fill in missing values <br>\n",
    "In EDA part, we detect that variables 'Product_Category_2' and 'Product_Category_3' both have 31.57%, 69.67%, 30.97% and 69.59% missing values in training set and test set,respectively. Since there are too many missing values in these two features, compared to filling them with other numbers and adding noise to the dataset, I decide to directly drop them. (Further, I actually run the model with these two features and without them, the result shows that RMSE is smaller if dataset does not contain two features. However, I am not sure whether the result will improve a lot if I use other imputation method like building a model instead of filling with subjective numbers.)"
   ]
  },
  {
   "cell_type": "code",
   "execution_count": null,
   "metadata": {
    "colab": {},
    "colab_type": "code",
    "id": "D4sA8xps-Dzo"
   },
   "outputs": [],
   "source": [
    "# Concating Train and Test to have feature engineering at the same time\n",
    "dataset = pd.concat([train,test],ignore_index=True)\n",
    "data = dataset.copy()\n",
    "\n",
    "# drop 'Product_Category_2' and  'Product_Category_3' variables since too many missing values\n",
    "data.drop(['Product_Category_2','Product_Category_3'],inplace=True,axis=1)"
   ]
  },
  {
   "cell_type": "markdown",
   "metadata": {
    "colab_type": "text",
    "id": "jookhloK-Dzr"
   },
   "source": [
    "#### 3. convert formats"
   ]
  },
  {
   "cell_type": "code",
   "execution_count": 4,
   "metadata": {
    "colab": {
     "base_uri": "https://localhost:8080/",
     "height": 287
    },
    "colab_type": "code",
    "id": "a5uvIJxS-Dzs",
    "outputId": "0737b628-6fe4-4cf9-9ebf-60916d295c5b"
   },
   "outputs": [
    {
     "data": {
      "text/html": [
       "<div>\n",
       "<style scoped>\n",
       "    .dataframe tbody tr th:only-of-type {\n",
       "        vertical-align: middle;\n",
       "    }\n",
       "\n",
       "    .dataframe tbody tr th {\n",
       "        vertical-align: top;\n",
       "    }\n",
       "\n",
       "    .dataframe thead th {\n",
       "        text-align: right;\n",
       "    }\n",
       "</style>\n",
       "<table border=\"1\" class=\"dataframe\">\n",
       "  <thead>\n",
       "    <tr style=\"text-align: right;\">\n",
       "      <th></th>\n",
       "      <th>Age</th>\n",
       "      <th>City_Category</th>\n",
       "      <th>Gender</th>\n",
       "      <th>Marital_Status</th>\n",
       "      <th>Occupation</th>\n",
       "      <th>Product_Category_1</th>\n",
       "      <th>Product_ID</th>\n",
       "      <th>Purchase</th>\n",
       "      <th>Stay_In_Current_City_Years</th>\n",
       "      <th>User_ID</th>\n",
       "    </tr>\n",
       "  </thead>\n",
       "  <tbody>\n",
       "    <tr>\n",
       "      <th>0</th>\n",
       "      <td>0-17</td>\n",
       "      <td>A</td>\n",
       "      <td>F</td>\n",
       "      <td>0</td>\n",
       "      <td>10</td>\n",
       "      <td>3</td>\n",
       "      <td>P00069042</td>\n",
       "      <td>8370.0</td>\n",
       "      <td>2</td>\n",
       "      <td>1000001</td>\n",
       "    </tr>\n",
       "    <tr>\n",
       "      <th>1</th>\n",
       "      <td>0-17</td>\n",
       "      <td>A</td>\n",
       "      <td>F</td>\n",
       "      <td>0</td>\n",
       "      <td>10</td>\n",
       "      <td>1</td>\n",
       "      <td>P00248942</td>\n",
       "      <td>15200.0</td>\n",
       "      <td>2</td>\n",
       "      <td>1000001</td>\n",
       "    </tr>\n",
       "    <tr>\n",
       "      <th>2</th>\n",
       "      <td>0-17</td>\n",
       "      <td>A</td>\n",
       "      <td>F</td>\n",
       "      <td>0</td>\n",
       "      <td>10</td>\n",
       "      <td>12</td>\n",
       "      <td>P00087842</td>\n",
       "      <td>1422.0</td>\n",
       "      <td>2</td>\n",
       "      <td>1000001</td>\n",
       "    </tr>\n",
       "    <tr>\n",
       "      <th>3</th>\n",
       "      <td>0-17</td>\n",
       "      <td>A</td>\n",
       "      <td>F</td>\n",
       "      <td>0</td>\n",
       "      <td>10</td>\n",
       "      <td>12</td>\n",
       "      <td>P00085442</td>\n",
       "      <td>1057.0</td>\n",
       "      <td>2</td>\n",
       "      <td>1000001</td>\n",
       "    </tr>\n",
       "    <tr>\n",
       "      <th>4</th>\n",
       "      <td>55+</td>\n",
       "      <td>C</td>\n",
       "      <td>M</td>\n",
       "      <td>0</td>\n",
       "      <td>16</td>\n",
       "      <td>8</td>\n",
       "      <td>P00285442</td>\n",
       "      <td>7969.0</td>\n",
       "      <td>4+</td>\n",
       "      <td>1000002</td>\n",
       "    </tr>\n",
       "  </tbody>\n",
       "</table>\n",
       "</div>"
      ],
      "text/plain": [
       "    Age City_Category Gender  Marital_Status  Occupation  Product_Category_1  \\\n",
       "0  0-17             A      F               0          10                   3   \n",
       "1  0-17             A      F               0          10                   1   \n",
       "2  0-17             A      F               0          10                  12   \n",
       "3  0-17             A      F               0          10                  12   \n",
       "4   55+             C      M               0          16                   8   \n",
       "\n",
       "  Product_ID  Purchase Stay_In_Current_City_Years  User_ID  \n",
       "0  P00069042    8370.0                          2  1000001  \n",
       "1  P00248942   15200.0                          2  1000001  \n",
       "2  P00087842    1422.0                          2  1000001  \n",
       "3  P00085442    1057.0                          2  1000001  \n",
       "4  P00285442    7969.0                         4+  1000002  "
      ]
     },
     "execution_count": 4,
     "metadata": {
      "tags": []
     },
     "output_type": "execute_result"
    }
   ],
   "source": [
    "data.head()"
   ]
  },
  {
   "cell_type": "markdown",
   "metadata": {
    "colab_type": "text",
    "id": "6cvQIS6b-Dzx"
   },
   "source": [
    "\n",
    "• Five features need to be converted, they include: Product_ID, Gender, Age, City_Category and Stay_In_Current_City_Years. \n",
    "\n",
    "**Product_ID **, I first LabelEncoding them directly because I think it seems to have no affect on the model and final scores. However, I was wrong and made mistake here. I trid several different ideas to convert it and decide to drop character 'P' and remain the rest numbers which gives me the best performance. <br>\n",
    "\n",
    "**Age**, when I explore the dataset I do find that different age groups hold different purchasing patterns. For example, 26-35 age groups are with the greatest purchasing power. Instead of one-hot encoding, I tend to keep the order against purchase amount by mapping the age groups onto specific ages. Modeling result shows that this works and outperforms one-hot encoding way.\n",
    "\n",
    "**Stay_In_Current_City_Years**, the same situation as age variable, in order to avoid affecting the data patteren or distribution, for example, people stayed 4+ years do not buy too many products compared with those stay 1 year. Rethink about it and I feel like this makes sense that people living here for a long time do need less goods so less shop Black Friday. However, people just move here tend to shop more because they demand more. Consequently, I still map the values to specific years.\n",
    "\n",
    "**Gender and City_Category** categorical variables are one-hot encoded with pandas function.\n",
    "\n",
    "\n"
   ]
  },
  {
   "cell_type": "code",
   "execution_count": null,
   "metadata": {
    "colab": {},
    "colab_type": "code",
    "id": "wVFuh6yC-Dzy"
   },
   "outputs": [],
   "source": [
    "# Convert Product ID to numerical values by removing P and convert the rest part to int type\n",
    "data[\"Product_ID\"] = data[\"Product_ID\"].str.replace(\"P\", \"\")\n",
    "data[\"Product_ID\"] = data[\"Product_ID\"].astype(str).astype(int)\n",
    "\n",
    "# Map Age variable to specific values\n",
    "Age_map = {'0-17':17,'26-35':35, '46-50':50, '36-45':45, '18-25':25,'51-55':55,'55+':75}\n",
    "data['Age'] = data['Age'].map(Age_map)\n",
    "\n",
    "# Map Stay_In_Current_City_Years variable to specific values\n",
    "data['Stay_In_Current_City_Years'] = data['Stay_In_Current_City_Years'].map({'0':0,'1':1,'2':2,'3':3,'4+':5})\n",
    "\n",
    "# Convert Gender and City Category to numerical values using get_dummies function\n",
    "columns = data.select_dtypes(include=['object']).columns\n",
    "data=pd.get_dummies(data, columns=columns, prefix=columns)"
   ]
  },
  {
   "cell_type": "markdown",
   "metadata": {
    "colab_type": "text",
    "id": "HKUBSCyn-Dz0"
   },
   "source": [
    "After converting, features look like following:"
   ]
  },
  {
   "cell_type": "code",
   "execution_count": 6,
   "metadata": {
    "colab": {
     "base_uri": "https://localhost:8080/",
     "height": 218
    },
    "colab_type": "code",
    "id": "fAMwVP9t-Dz1",
    "outputId": "eced7b60-d446-42f2-a52d-4e9bbae0763c"
   },
   "outputs": [
    {
     "data": {
      "text/html": [
       "<div>\n",
       "<style scoped>\n",
       "    .dataframe tbody tr th:only-of-type {\n",
       "        vertical-align: middle;\n",
       "    }\n",
       "\n",
       "    .dataframe tbody tr th {\n",
       "        vertical-align: top;\n",
       "    }\n",
       "\n",
       "    .dataframe thead th {\n",
       "        text-align: right;\n",
       "    }\n",
       "</style>\n",
       "<table border=\"1\" class=\"dataframe\">\n",
       "  <thead>\n",
       "    <tr style=\"text-align: right;\">\n",
       "      <th></th>\n",
       "      <th>Age</th>\n",
       "      <th>Marital_Status</th>\n",
       "      <th>Occupation</th>\n",
       "      <th>Product_Category_1</th>\n",
       "      <th>Product_ID</th>\n",
       "      <th>Purchase</th>\n",
       "      <th>Stay_In_Current_City_Years</th>\n",
       "      <th>User_ID</th>\n",
       "      <th>City_Category_A</th>\n",
       "      <th>City_Category_B</th>\n",
       "      <th>City_Category_C</th>\n",
       "      <th>Gender_F</th>\n",
       "      <th>Gender_M</th>\n",
       "    </tr>\n",
       "  </thead>\n",
       "  <tbody>\n",
       "    <tr>\n",
       "      <th>0</th>\n",
       "      <td>17</td>\n",
       "      <td>0</td>\n",
       "      <td>10</td>\n",
       "      <td>3</td>\n",
       "      <td>69042</td>\n",
       "      <td>8370.0</td>\n",
       "      <td>2</td>\n",
       "      <td>1000001</td>\n",
       "      <td>1</td>\n",
       "      <td>0</td>\n",
       "      <td>0</td>\n",
       "      <td>1</td>\n",
       "      <td>0</td>\n",
       "    </tr>\n",
       "    <tr>\n",
       "      <th>1</th>\n",
       "      <td>17</td>\n",
       "      <td>0</td>\n",
       "      <td>10</td>\n",
       "      <td>1</td>\n",
       "      <td>248942</td>\n",
       "      <td>15200.0</td>\n",
       "      <td>2</td>\n",
       "      <td>1000001</td>\n",
       "      <td>1</td>\n",
       "      <td>0</td>\n",
       "      <td>0</td>\n",
       "      <td>1</td>\n",
       "      <td>0</td>\n",
       "    </tr>\n",
       "    <tr>\n",
       "      <th>2</th>\n",
       "      <td>17</td>\n",
       "      <td>0</td>\n",
       "      <td>10</td>\n",
       "      <td>12</td>\n",
       "      <td>87842</td>\n",
       "      <td>1422.0</td>\n",
       "      <td>2</td>\n",
       "      <td>1000001</td>\n",
       "      <td>1</td>\n",
       "      <td>0</td>\n",
       "      <td>0</td>\n",
       "      <td>1</td>\n",
       "      <td>0</td>\n",
       "    </tr>\n",
       "    <tr>\n",
       "      <th>3</th>\n",
       "      <td>17</td>\n",
       "      <td>0</td>\n",
       "      <td>10</td>\n",
       "      <td>12</td>\n",
       "      <td>85442</td>\n",
       "      <td>1057.0</td>\n",
       "      <td>2</td>\n",
       "      <td>1000001</td>\n",
       "      <td>1</td>\n",
       "      <td>0</td>\n",
       "      <td>0</td>\n",
       "      <td>1</td>\n",
       "      <td>0</td>\n",
       "    </tr>\n",
       "    <tr>\n",
       "      <th>4</th>\n",
       "      <td>75</td>\n",
       "      <td>0</td>\n",
       "      <td>16</td>\n",
       "      <td>8</td>\n",
       "      <td>285442</td>\n",
       "      <td>7969.0</td>\n",
       "      <td>5</td>\n",
       "      <td>1000002</td>\n",
       "      <td>0</td>\n",
       "      <td>0</td>\n",
       "      <td>1</td>\n",
       "      <td>0</td>\n",
       "      <td>1</td>\n",
       "    </tr>\n",
       "  </tbody>\n",
       "</table>\n",
       "</div>"
      ],
      "text/plain": [
       "   Age  Marital_Status  Occupation  Product_Category_1  Product_ID  Purchase  \\\n",
       "0   17               0          10                   3       69042    8370.0   \n",
       "1   17               0          10                   1      248942   15200.0   \n",
       "2   17               0          10                  12       87842    1422.0   \n",
       "3   17               0          10                  12       85442    1057.0   \n",
       "4   75               0          16                   8      285442    7969.0   \n",
       "\n",
       "   Stay_In_Current_City_Years  User_ID  City_Category_A  City_Category_B  \\\n",
       "0                           2  1000001                1                0   \n",
       "1                           2  1000001                1                0   \n",
       "2                           2  1000001                1                0   \n",
       "3                           2  1000001                1                0   \n",
       "4                           5  1000002                0                0   \n",
       "\n",
       "   City_Category_C  Gender_F  Gender_M  \n",
       "0                0         1         0  \n",
       "1                0         1         0  \n",
       "2                0         1         0  \n",
       "3                0         1         0  \n",
       "4                1         0         1  "
      ]
     },
     "execution_count": 6,
     "metadata": {
      "tags": []
     },
     "output_type": "execute_result"
    }
   ],
   "source": [
    "data.head()"
   ]
  },
  {
   "cell_type": "markdown",
   "metadata": {
    "colab_type": "text",
    "id": "3gmlENmw-Dz7"
   },
   "source": [
    "#### 4. Correlation Matrix"
   ]
  },
  {
   "cell_type": "code",
   "execution_count": 7,
   "metadata": {
    "colab": {
     "base_uri": "https://localhost:8080/",
     "height": 600
    },
    "colab_type": "code",
    "id": "BRhGl3OQ-Dz7",
    "outputId": "abd5ba71-546b-4f5d-f90c-6f5d266b4ff3"
   },
   "outputs": [
    {
     "data": {
      "image/png": "[encoded data removed]",
      "text/plain": [
       "<matplotlib.figure.Figure at 0x7f6c3d884390>"
      ]
     },
     "metadata": {
      "tags": []
     },
     "output_type": "display_data"
    }
   ],
   "source": [
    "corr = data.corr()\n",
    "mask = np.zeros_like(corr, dtype=np.bool)\n",
    "mask[np.triu_indices_from(mask)] = True\n",
    "plt.figure(figsize=(17, 8))\n",
    "ax = sns.heatmap(corr, mask=mask, square = True, vmax = 0.4,annot=True,cmap=\"YlGnBu\")"
   ]
  },
  {
   "cell_type": "markdown",
   "metadata": {
    "colab_type": "text",
    "id": "kG2k3yng-Dz-"
   },
   "source": [
    "It is clear and sort of wierd that nothing is highly correlated with the Purchase variable. What I could observe is:\n",
    "\n",
    "1. Product_ID has a negative correlation with Purchase.\n",
    "2. Product_Category_1 has a relative strong negative correlation with Purchase.\n",
    "\n",
    "Since Product_Category_1 variable shows some relation with purchase amount, I think if I have time I may convert it to dummy variable and split each category as a new feature and test the results."
   ]
  },
  {
   "cell_type": "markdown",
   "metadata": {
    "colab_type": "text",
    "id": "0RnSXEWL-D0A"
   },
   "source": [
    "#### 5. Training vs Validation vs Test set"
   ]
  },
  {
   "cell_type": "markdown",
   "metadata": {
    "colab_type": "text",
    "id": "cdYNX-83-D0A"
   },
   "source": [
    "The dataset was already divided into train and test set, so we do not obtain target value for test set. I will split the train set here into training set and validation set to train models and evaluate their performance."
   ]
  },
  {
   "cell_type": "code",
   "execution_count": null,
   "metadata": {
    "colab": {},
    "colab_type": "code",
    "id": "Uc9QUR2u-D0C"
   },
   "outputs": [],
   "source": [
    "#Divide into Test and Train again\n",
    "Train=data.loc[data['Purchase'].isnull()==False]\n",
    "Test=data.loc[data['Purchase'].isnull()==True]\n",
    "Test = Test.drop(['Purchase'],axis=1)\n",
    "\n",
    "# Split into X_train as training set and X_test as validation set\n",
    "X = Train.drop(['Purchase'], axis=1)\n",
    "y = Train['Purchase']\n",
    "X_train,X_test,y_train,y_test = train_test_split(X,y,random_state=100,test_size=0.3)"
   ]
  },
  {
   "cell_type": "code",
   "execution_count": 9,
   "metadata": {
    "colab": {
     "base_uri": "https://localhost:8080/",
     "height": 69
    },
    "colab_type": "code",
    "id": "JGYnKdzd-D0F",
    "outputId": "fa71e754-5b96-4b5c-e52d-d56b1d012458"
   },
   "outputs": [
    {
     "name": "stdout",
     "output_type": "stream",
     "text": [
      "Test set size: (233599, 12)\n",
      "Train set size: (385047, 12)\n",
      "Validation set size: (165021, 12)\n"
     ]
    }
   ],
   "source": [
    "print('Test set size:',Test.shape)\n",
    "print('Train set size:',X_train.shape)\n",
    "print('Validation set size:',X_test.shape)"
   ]
  },
  {
   "cell_type": "markdown",
   "metadata": {
    "colab_type": "text",
    "id": "fzYAlJZP-D0I"
   },
   "source": [
    "#### 6. Evaluation metric"
   ]
  },
  {
   "cell_type": "markdown",
   "metadata": {
    "colab_type": "text",
    "id": "7pUUEnyo-D0J"
   },
   "source": [
    "The contest utilizes the root mean squared error(RMSE) to evaluate the final predictions. RMSE is very common and is a suitable general-purpose error metric. Compared to the Mean Absolute Error, RMSE punishes large errors:\n",
    "\n",
    "$$RMSE = \\sqrt{\\frac{1}{n} \\sum_{i=1}^{n}(y_i - \\hat{y_i})}$$\n",
    "\n",
    "where $y_i$ is the ground truth and $\\hat{y_i}$ is the prediction for the corresponding test instance."
   ]
  },
  {
   "cell_type": "markdown",
   "metadata": {
    "colab_type": "text",
    "id": "vP0Vka0w-D0K"
   },
   "source": [
    "### Short-List Promising Models"
   ]
  },
  {
   "cell_type": "markdown",
   "metadata": {
    "colab_type": "text",
    "id": "JyGDdzSO-D0L"
   },
   "source": [
    "For regression problem, we have a bunch of Machine Learning algorithms as candidates. I plan to train many quick and dirty models from different categories like linear model, SVM, tree model and neural network, etc using standard parameters and compare their performance. For each model, use N-fold cross-validation and compute the mean and standard deviation of the performance measure on the N folds.\n",
    "\n",
    "In order to train many different models in a reasonable time, I will sample smaller training sets to speed up the process here."
   ]
  },
  {
   "cell_type": "code",
   "execution_count": null,
   "metadata": {
    "colab": {},
    "colab_type": "code",
    "id": "M-WwfXo7-D0M"
   },
   "outputs": [],
   "source": [
    "#Sample smaller training sets\n",
    "Train_sam = Train.sample(n=round(Train.shape[0]*0.1),random_state=10)\n",
    "X = Train_sam.drop(['Purchase'], axis=1)\n",
    "y = Train_sam['Purchase']\n",
    "\n",
    "#Validation function\n",
    "n_folds = 5\n",
    "def rmsle_cv(model):\n",
    "    kf = KFold(n_folds, shuffle=True, random_state=42).get_n_splits(X.values)\n",
    "    rmse= np.sqrt(-cross_val_score(model, X.values, y, scoring=\"neg_mean_squared_error\", cv = kf))\n",
    "    return(rmse)"
   ]
  },
  {
   "cell_type": "markdown",
   "metadata": {
    "colab_type": "text",
    "id": "vmKU4VYNeeTI"
   },
   "source": [
    "Test some basic quick and dirty models"
   ]
  },
  {
   "cell_type": "code",
   "execution_count": null,
   "metadata": {
    "colab": {},
    "colab_type": "code",
    "id": "Y3cRLBTV-D0S"
   },
   "outputs": [],
   "source": [
    "lr_reg = LinearRegression()\n",
    "lasso = Lasso(random_state=7)\n",
    "tree = DecisionTreeRegressor(random_state=7)\n",
    "rf = RandomForestRegressor()"
   ]
  },
  {
   "cell_type": "code",
   "execution_count": 12,
   "metadata": {
    "colab": {
     "base_uri": "https://localhost:8080/",
     "height": 69
    },
    "colab_type": "code",
    "id": "5USK78Yb-D0Z",
    "outputId": "40fa9b88-c435-46a5-b02a-f40efe6d322a"
   },
   "outputs": [
    {
     "name": "stdout",
     "output_type": "stream",
     "text": [
      "\n",
      "Linear Regression score: 4694.5693 (13.9887)\n",
      "\n"
     ]
    }
   ],
   "source": [
    "score = rmsle_cv(lr_reg)\n",
    "print(\"\\nLinear Regression score: {:.4f} ({:.4f})\\n\".format(score.mean(), score.std()))"
   ]
  },
  {
   "cell_type": "code",
   "execution_count": 13,
   "metadata": {
    "colab": {
     "base_uri": "https://localhost:8080/",
     "height": 69
    },
    "colab_type": "code",
    "id": "aGHc0F_M-D0f",
    "outputId": "dfb62467-23ef-45ff-8a08-7f6bccde7a16"
   },
   "outputs": [
    {
     "name": "stdout",
     "output_type": "stream",
     "text": [
      "\n",
      "Lasso score: 4694.5706 (13.9981)\n",
      "\n"
     ]
    }
   ],
   "source": [
    "score = rmsle_cv(lasso)\n",
    "print(\"\\nLasso score: {:.4f} ({:.4f})\\n\".format(score.mean(), score.std()))"
   ]
  },
  {
   "cell_type": "code",
   "execution_count": 14,
   "metadata": {
    "colab": {
     "base_uri": "https://localhost:8080/",
     "height": 69
    },
    "colab_type": "code",
    "id": "p_7mJa7u-D0i",
    "outputId": "f1caf5a8-be1c-4547-f630-a52628a0d815"
   },
   "outputs": [
    {
     "name": "stdout",
     "output_type": "stream",
     "text": [
      "\n",
      "Decision Tree score: 3970.0245 (59.9316)\n",
      "\n"
     ]
    }
   ],
   "source": [
    "score = rmsle_cv(tree)\n",
    "print(\"\\nDecision Tree score: {:.4f} ({:.4f})\\n\".format(score.mean(), score.std()))"
   ]
  },
  {
   "cell_type": "code",
   "execution_count": 15,
   "metadata": {
    "colab": {
     "base_uri": "https://localhost:8080/",
     "height": 69
    },
    "colab_type": "code",
    "id": "6LecVU7o-D0l",
    "outputId": "bc55a050-5732-48b9-c3ce-6784ef53d9cc"
   },
   "outputs": [
    {
     "name": "stdout",
     "output_type": "stream",
     "text": [
      "\n",
      "Random Forest: 2989.9765 (26.4750)\n",
      "\n"
     ]
    }
   ],
   "source": [
    "score = rmsle_cv(rf)\n",
    "print(\"\\nRandom Forest: {:.4f} ({:.4f})\\n\".format(score.mean(), score.std()))"
   ]
  },
  {
   "cell_type": "markdown",
   "metadata": {
    "colab_type": "text",
    "id": "vmvpeSsB-D0p"
   },
   "source": [
    "Since Support Vector Regression takes too much time, I do not try it here. It looks tree model is very promising. So I plan to use tree based model to tackle the problem. I am planning to try bagging with base estimator decision tree, random forest, adaboost, gradient boost and extreme gradient boost methods. It's not only because they are able to capture the patterns in the dataset but also some of them provide tools to evaluate the importance of features, which might give us insight for feature engineering."
   ]
  },
  {
   "cell_type": "markdown",
   "metadata": {
    "colab_type": "text",
    "id": "9SMVzPxz-D0q"
   },
   "source": [
    "### Fine-Tune the System"
   ]
  },
  {
   "cell_type": "markdown",
   "metadata": {
    "colab_type": "text",
    "id": "FNU7BLJJ-D0r"
   },
   "source": [
    "As we all know, finding the optimal parameters is ambitious and time consuming. I started off randomly searching parameters to narrow down the range then moved to grid search to guarantee get more precise result which could be implemented by **GridSearchCV** and **RandomizedSearchCV** sklearn functions. It is wise to use as much data as possible for this step, but fine tuning models really takes long time, considering the convenience of running this kernel, I will use random forest as an example.\n"
   ]
  },
  {
   "cell_type": "markdown",
   "metadata": {
    "colab_type": "text",
    "id": "0N76YCR2-D0z"
   },
   "source": [
    "**Random Forest**"
   ]
  },
  {
   "cell_type": "markdown",
   "metadata": {
    "colab_type": "text",
    "id": "Y_PFNo0a-D00"
   },
   "source": [
    "- Searching parameters randomly helps us narrow down optimal range."
   ]
  },
  {
   "cell_type": "code",
   "execution_count": 16,
   "metadata": {
    "colab": {
     "base_uri": "https://localhost:8080/",
     "height": 207
    },
    "colab_type": "code",
    "id": "YLrkMLuf-D01",
    "outputId": "0242f5de-b079-454b-e6de-51c12ac65cab"
   },
   "outputs": [
    {
     "name": "stdout",
     "output_type": "stream",
     "text": [
      "Random search results:\n",
      "2846.0200341577965 {'n_estimators': 250, 'min_samples_split': 8, 'min_samples_leaf': 20, 'max_depth': 35}\n",
      "2846.0189508409844 {'n_estimators': 450, 'min_samples_split': 4, 'min_samples_leaf': 20, 'max_depth': 35}\n",
      "2834.60943122496 {'n_estimators': 450, 'min_samples_split': 8, 'min_samples_leaf': 10, 'max_depth': 35}\n",
      "2834.594115095639 {'n_estimators': 450, 'min_samples_split': 4, 'min_samples_leaf': 10, 'max_depth': 25}\n",
      "2839.223371123241 {'n_estimators': 450, 'min_samples_split': 8, 'min_samples_leaf': 15, 'max_depth': 25}\n",
      "2845.7320156595347 {'n_estimators': 350, 'min_samples_split': 4, 'min_samples_leaf': 20, 'max_depth': 35}\n",
      "2839.224743594187 {'n_estimators': 450, 'min_samples_split': 8, 'min_samples_leaf': 15, 'max_depth': 35}\n",
      "2835.0217914918367 {'n_estimators': 350, 'min_samples_split': 8, 'min_samples_leaf': 10, 'max_depth': 25}\n",
      "2846.022773394435 {'n_estimators': 250, 'min_samples_split': 8, 'min_samples_leaf': 20, 'max_depth': 25}\n",
      "2845.7362413871497 {'n_estimators': 350, 'min_samples_split': 8, 'min_samples_leaf': 20, 'max_depth': 25}\n"
     ]
    }
   ],
   "source": [
    "rf = RandomForestRegressor(n_jobs=-1,random_state=10)\n",
    "\n",
    "param_random = {'n_estimators':range(250,500,100),\n",
    "               'max_depth':range(25,45,10),\n",
    "               'min_samples_leaf':range(10,25,5),\n",
    "               'min_samples_split':range(4,10,4)}\n",
    "\n",
    "# random search + cross validation\n",
    "random_rf = RandomizedSearchCV(rf,param_random,cv = 3,scoring='neg_mean_squared_error',n_jobs = -1)\n",
    "# train model in train set\n",
    "random_rf.fit(X.values,y.values)\n",
    "# return search results for each case\n",
    "result_rf = random_rf.cv_results_\n",
    "print('Random search results:')\n",
    "for mean_score, params in zip(result_rf[\"mean_test_score\"], result_rf[\"params\"]):\n",
    "    print(np.sqrt(-mean_score), params)\n"
   ]
  },
  {
   "cell_type": "code",
   "execution_count": 17,
   "metadata": {
    "colab": {
     "base_uri": "https://localhost:8080/",
     "height": 52
    },
    "colab_type": "code",
    "id": "4y0hrtnmQR9A",
    "outputId": "1b11f9af-77b3-4678-9360-15e24e8e531b"
   },
   "outputs": [
    {
     "name": "stdout",
     "output_type": "stream",
     "text": [
      "Best parameters: {'n_estimators': 450, 'min_samples_split': 4, 'min_samples_leaf': 10, 'max_depth': 25}\n",
      "Random Forest with best parameters now, RMSE on validation set: 2755.296111248655\n"
     ]
    }
   ],
   "source": [
    "# get the best estimator\n",
    "best_rdm_rf = random_rf.best_estimator_\n",
    "# prediction on validation set\n",
    "rf_predictions = best_rdm_rf.predict(X_test.values)\n",
    "mse = mean_squared_error(y_test, rf_predictions)\n",
    "rmse = np.sqrt(mse)\n",
    "print('Best parameters:',random_rf.best_params_)\n",
    "print('Random Forest with best parameters now, RMSE on validation set:',rmse)"
   ]
  },
  {
   "cell_type": "markdown",
   "metadata": {
    "colab_type": "text",
    "id": "GEYuCPyZ-D03"
   },
   "source": [
    "- Exhaustive grid search over specified parameter values and obtain optimal ones."
   ]
  },
  {
   "cell_type": "code",
   "execution_count": 18,
   "metadata": {
    "colab": {
     "base_uri": "https://localhost:8080/",
     "height": 449
    },
    "colab_type": "code",
    "id": "HsL9Nqif-D05",
    "outputId": "6a187a95-dffe-4b83-a1dd-a5943517c256"
   },
   "outputs": [
    {
     "name": "stdout",
     "output_type": "stream",
     "text": [
      "Grid search results:\n",
      "2812.277616456983 {'max_depth': 24, 'min_samples_leaf': 8, 'min_samples_split': 3, 'n_estimators': 440}\n",
      "2812.2875253141938 {'max_depth': 24, 'min_samples_leaf': 8, 'min_samples_split': 3, 'n_estimators': 460}\n",
      "2812.277616456983 {'max_depth': 24, 'min_samples_leaf': 8, 'min_samples_split': 5, 'n_estimators': 440}\n",
      "2812.2875253141938 {'max_depth': 24, 'min_samples_leaf': 8, 'min_samples_split': 5, 'n_estimators': 460}\n",
      "2814.97950088473 {'max_depth': 24, 'min_samples_leaf': 12, 'min_samples_split': 3, 'n_estimators': 440}\n",
      "2814.9111658616084 {'max_depth': 24, 'min_samples_leaf': 12, 'min_samples_split': 3, 'n_estimators': 460}\n",
      "2814.9795008847304 {'max_depth': 24, 'min_samples_leaf': 12, 'min_samples_split': 5, 'n_estimators': 440}\n",
      "2814.9111658616084 {'max_depth': 24, 'min_samples_leaf': 12, 'min_samples_split': 5, 'n_estimators': 460}\n",
      "2812.390012546474 {'max_depth': 26, 'min_samples_leaf': 8, 'min_samples_split': 3, 'n_estimators': 440}\n",
      "2812.395357407763 {'max_depth': 26, 'min_samples_leaf': 8, 'min_samples_split': 3, 'n_estimators': 460}\n",
      "2812.390012546474 {'max_depth': 26, 'min_samples_leaf': 8, 'min_samples_split': 5, 'n_estimators': 440}\n",
      "2812.395357407763 {'max_depth': 26, 'min_samples_leaf': 8, 'min_samples_split': 5, 'n_estimators': 460}\n",
      "2814.989728982825 {'max_depth': 26, 'min_samples_leaf': 12, 'min_samples_split': 3, 'n_estimators': 440}\n",
      "2814.924658711583 {'max_depth': 26, 'min_samples_leaf': 12, 'min_samples_split': 3, 'n_estimators': 460}\n",
      "2814.989728982825 {'max_depth': 26, 'min_samples_leaf': 12, 'min_samples_split': 5, 'n_estimators': 440}\n",
      "2814.924658711583 {'max_depth': 26, 'min_samples_leaf': 12, 'min_samples_split': 5, 'n_estimators': 460}\n",
      "2812.452400597279 {'max_depth': 27, 'min_samples_leaf': 8, 'min_samples_split': 3, 'n_estimators': 440}\n",
      "2812.456326322286 {'max_depth': 27, 'min_samples_leaf': 8, 'min_samples_split': 3, 'n_estimators': 460}\n",
      "2812.452400597279 {'max_depth': 27, 'min_samples_leaf': 8, 'min_samples_split': 5, 'n_estimators': 440}\n",
      "2812.456326322286 {'max_depth': 27, 'min_samples_leaf': 8, 'min_samples_split': 5, 'n_estimators': 460}\n",
      "2814.990766768847 {'max_depth': 27, 'min_samples_leaf': 12, 'min_samples_split': 3, 'n_estimators': 440}\n",
      "2814.9258536831926 {'max_depth': 27, 'min_samples_leaf': 12, 'min_samples_split': 3, 'n_estimators': 460}\n",
      "2814.990766768847 {'max_depth': 27, 'min_samples_leaf': 12, 'min_samples_split': 5, 'n_estimators': 440}\n",
      "2814.925853683192 {'max_depth': 27, 'min_samples_leaf': 12, 'min_samples_split': 5, 'n_estimators': 460}\n"
     ]
    }
   ],
   "source": [
    "## random forest \n",
    "rf = RandomForestRegressor(n_jobs=-1,random_state=10)\n",
    "\n",
    "param_grid = [ { 'n_estimators': [440,460], \n",
    "                'max_depth':[24,26,27],\n",
    "                'min_samples_leaf':[8,12], \n",
    "                'min_samples_split':[3,5]}]\n",
    "\n",
    "## Grid search + cross validation\n",
    "grid_search_rf = GridSearchCV(rf, param_grid, cv=5,scoring='neg_mean_squared_error',n_jobs = -1)\n",
    "## Train model in smaller sample set to save running time here\n",
    "grid_search_rf.fit(X.values, y.values)\n",
    "## Return search values for each case\n",
    "cvres_rf = grid_search_rf.cv_results_\n",
    "print('Grid search results:')\n",
    "for mean_score, params in zip(cvres_rf[\"mean_test_score\"], cvres_rf[\"params\"]): \n",
    "    print(np.sqrt(-mean_score), params)"
   ]
  },
  {
   "cell_type": "code",
   "execution_count": 19,
   "metadata": {
    "colab": {
     "base_uri": "https://localhost:8080/",
     "height": 52
    },
    "colab_type": "code",
    "id": "XffFLzQhOOJE",
    "outputId": "8191edcc-1ec0-41bf-bac5-78277540d7dd"
   },
   "outputs": [
    {
     "name": "stdout",
     "output_type": "stream",
     "text": [
      "Best parameters: {'max_depth': 24, 'min_samples_leaf': 8, 'min_samples_split': 3, 'n_estimators': 440}\n",
      "Random Forest with best parameters now, RMSE on validation set: 2747.3909738985035\n"
     ]
    }
   ],
   "source": [
    "# Get the best estimator\n",
    "best_grd_rf = grid_search_rf.best_estimator_\n",
    "# Output predictions on validation set\n",
    "rf_grd_predictions = best_grd_rf.predict(X_test.values)\n",
    "mse = mean_squared_error(y_test, rf_grd_predictions)\n",
    "rmse = np.sqrt(mse)\n",
    "print('Best parameters:',grid_search_rf.best_params_)\n",
    "print('Random Forest with best parameters now, RMSE on validation set:',rmse)"
   ]
  },
  {
   "cell_type": "markdown",
   "metadata": {},
   "source": [
    "I will use the same idea to tweak the parameters for the rest methods and directly give my optimal parameters for the rest models after extensive tuning."
   ]
  }
 ],
 "metadata": {
  "colab": {
   "collapsed_sections": [],
   "name": "BlackFirday_DataddProcess.ipynb",
   "provenance": [],
   "version": "0.3.2"
  },
  "kernelspec": {
   "display_name": "Python 3",
   "language": "python",
   "name": "python3"
  },
  "language_info": {
   "codemirror_mode": {
    "name": "ipython",
    "version": 3
   },
   "file_extension": ".py",
   "mimetype": "text/x-python",
   "name": "python",
   "nbconvert_exporter": "python",
   "pygments_lexer": "ipython3",
   "version": "3.6.5"
  }
 },
 "nbformat": 4,
 "nbformat_minor": 2
}
